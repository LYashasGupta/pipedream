{
 "cells": [
  {
   "cell_type": "code",
   "execution_count": 3,
   "id": "5b2e0e16",
   "metadata": {},
   "outputs": [
    {
     "data": {
      "text/plain": [
       "'a collection of alphabets, words or other characters'"
      ]
     },
     "execution_count": 3,
     "metadata": {},
     "output_type": "execute_result"
    }
   ],
   "source": [
    "c = 'a collection of alphabets, words or other characters'\n",
    "c"
   ]
  },
  {
   "cell_type": "code",
   "execution_count": 4,
   "id": "5536c1c6",
   "metadata": {},
   "outputs": [
    {
     "data": {
      "text/plain": [
       "['__add__',\n",
       " '__class__',\n",
       " '__contains__',\n",
       " '__delattr__',\n",
       " '__dir__',\n",
       " '__doc__',\n",
       " '__eq__',\n",
       " '__format__',\n",
       " '__ge__',\n",
       " '__getattribute__',\n",
       " '__getitem__',\n",
       " '__getnewargs__',\n",
       " '__gt__',\n",
       " '__hash__',\n",
       " '__init__',\n",
       " '__init_subclass__',\n",
       " '__iter__',\n",
       " '__le__',\n",
       " '__len__',\n",
       " '__lt__',\n",
       " '__mod__',\n",
       " '__mul__',\n",
       " '__ne__',\n",
       " '__new__',\n",
       " '__reduce__',\n",
       " '__reduce_ex__',\n",
       " '__repr__',\n",
       " '__rmod__',\n",
       " '__rmul__',\n",
       " '__setattr__',\n",
       " '__sizeof__',\n",
       " '__str__',\n",
       " '__subclasshook__',\n",
       " 'capitalize',\n",
       " 'casefold',\n",
       " 'center',\n",
       " 'count',\n",
       " 'encode',\n",
       " 'endswith',\n",
       " 'expandtabs',\n",
       " 'find',\n",
       " 'format',\n",
       " 'format_map',\n",
       " 'index',\n",
       " 'isalnum',\n",
       " 'isalpha',\n",
       " 'isascii',\n",
       " 'isdecimal',\n",
       " 'isdigit',\n",
       " 'isidentifier',\n",
       " 'islower',\n",
       " 'isnumeric',\n",
       " 'isprintable',\n",
       " 'isspace',\n",
       " 'istitle',\n",
       " 'isupper',\n",
       " 'join',\n",
       " 'ljust',\n",
       " 'lower',\n",
       " 'lstrip',\n",
       " 'maketrans',\n",
       " 'partition',\n",
       " 'removeprefix',\n",
       " 'removesuffix',\n",
       " 'replace',\n",
       " 'rfind',\n",
       " 'rindex',\n",
       " 'rjust',\n",
       " 'rpartition',\n",
       " 'rsplit',\n",
       " 'rstrip',\n",
       " 'split',\n",
       " 'splitlines',\n",
       " 'startswith',\n",
       " 'strip',\n",
       " 'swapcase',\n",
       " 'title',\n",
       " 'translate',\n",
       " 'upper',\n",
       " 'zfill']"
      ]
     },
     "execution_count": 4,
     "metadata": {},
     "output_type": "execute_result"
    }
   ],
   "source": [
    "dir(c)"
   ]
  },
  {
   "cell_type": "code",
   "execution_count": null,
   "id": "9d1f4832",
   "metadata": {},
   "outputs": [],
   "source": [
    "\"\"\"'isalnum','isalpha','isascii','isdecimal','isdigit',\n",
    " 'isidentifier','islower','isnumeric','isprintable','isspace',\n",
    " 'istitle','isupper'\"\"\""
   ]
  },
  {
   "cell_type": "code",
   "execution_count": 11,
   "id": "87345aed",
   "metadata": {},
   "outputs": [
    {
     "data": {
      "text/plain": [
       "True"
      ]
     },
     "execution_count": 11,
     "metadata": {},
     "output_type": "execute_result"
    }
   ],
   "source": [
    "# isalnum: Returns true if the string contains numeric and alphabets if not prints false.\n",
    "# returns true when there is numbers or alphabets in given string. \n",
    "\n",
    "x = '23number'\n",
    "x.isalnum()"
   ]
  },
  {
   "cell_type": "code",
   "execution_count": 72,
   "id": "02fc214d",
   "metadata": {},
   "outputs": [
    {
     "data": {
      "text/plain": [
       "False"
      ]
     },
     "execution_count": 72,
     "metadata": {},
     "output_type": "execute_result"
    }
   ],
   "source": [
    "gt = 'sede345@'\n",
    "gt.isalnum()"
   ]
  },
  {
   "cell_type": "code",
   "execution_count": 14,
   "id": "efd409b7",
   "metadata": {},
   "outputs": [
    {
     "data": {
      "text/plain": [
       "False"
      ]
     },
     "execution_count": 14,
     "metadata": {},
     "output_type": "execute_result"
    }
   ],
   "source": [
    "d = '#$%@##3s'\n",
    "d.isalnum()"
   ]
  },
  {
   "cell_type": "code",
   "execution_count": 18,
   "id": "ba8d66c2",
   "metadata": {},
   "outputs": [
    {
     "data": {
      "text/plain": [
       "True"
      ]
     },
     "execution_count": 18,
     "metadata": {},
     "output_type": "execute_result"
    }
   ],
   "source": [
    "# isalpha: returns true if the string contains alphabetic.Otherwise zero.\n",
    "# returns true also there is only one string.\n",
    "\n",
    "d = 'shghfcvfr'\n",
    "d.isalpha()"
   ]
  },
  {
   "cell_type": "code",
   "execution_count": 83,
   "id": "602e6b4c",
   "metadata": {},
   "outputs": [
    {
     "data": {
      "text/plain": [
       "True"
      ]
     },
     "execution_count": 83,
     "metadata": {},
     "output_type": "execute_result"
    }
   ],
   "source": [
    "# isascii: returns true if the string contains in acci table.\n",
    "\n",
    "h = '{'\n",
    "h.isascii()"
   ]
  },
  {
   "cell_type": "code",
   "execution_count": 84,
   "id": "5ada74ea",
   "metadata": {},
   "outputs": [
    {
     "data": {
      "text/plain": [
       "123"
      ]
     },
     "execution_count": 84,
     "metadata": {},
     "output_type": "execute_result"
    }
   ],
   "source": [
    "ord('{')"
   ]
  },
  {
   "cell_type": "code",
   "execution_count": 76,
   "id": "7e3ac5a1",
   "metadata": {},
   "outputs": [
    {
     "data": {
      "text/plain": [
       "False"
      ]
     },
     "execution_count": 76,
     "metadata": {},
     "output_type": "execute_result"
    }
   ],
   "source": [
    "# isdecimal: returns true if the given string is float.(ask sir)\n",
    "s = '89.89'\n",
    "s.isdecimal()"
   ]
  },
  {
   "cell_type": "code",
   "execution_count": 40,
   "id": "ef057398",
   "metadata": {},
   "outputs": [
    {
     "data": {
      "text/plain": [
       "True"
      ]
     },
     "execution_count": 40,
     "metadata": {},
     "output_type": "execute_result"
    }
   ],
   "source": [
    "# isdigit: returns true if the string contains digits.\n",
    "\n",
    "z = '23'\n",
    "z.isdigit()"
   ]
  },
  {
   "cell_type": "code",
   "execution_count": 41,
   "id": "f6e7ffa2",
   "metadata": {},
   "outputs": [
    {
     "data": {
      "text/plain": [
       "True"
      ]
     },
     "execution_count": 41,
     "metadata": {},
     "output_type": "execute_result"
    }
   ],
   "source": [
    "# isidentifier():\n",
    "# A string is considered a valid identifier if it only contains \n",
    "#alphanumeric letters (a-z) and (0-9), or underscores (_). \n",
    "# A valid identifier cannot start with a number, or contain any spaces.\n",
    "\n",
    "w = 'a3_'\n",
    "w.isidentifier()"
   ]
  },
  {
   "cell_type": "code",
   "execution_count": 44,
   "id": "79807564",
   "metadata": {},
   "outputs": [
    {
     "data": {
      "text/plain": [
       "(True, False)"
      ]
     },
     "execution_count": 44,
     "metadata": {},
     "output_type": "execute_result"
    }
   ],
   "source": [
    "#islower: returns true if all the characters are in lowercase.\n",
    "\n",
    "s = 'edcvre'\n",
    "r = 'sedcF'\n",
    "s.islower(), r.islower()"
   ]
  },
  {
   "cell_type": "code",
   "execution_count": 45,
   "id": "9907cf49",
   "metadata": {},
   "outputs": [
    {
     "data": {
      "text/plain": [
       "(False, True)"
      ]
     },
     "execution_count": 45,
     "metadata": {},
     "output_type": "execute_result"
    }
   ],
   "source": [
    "# isnumeric(): returns true if all the characters in given string are numbers.\n",
    "\n",
    "x = '3452s'\n",
    "o = '56'\n",
    "x.isnumeric(), o.isnumeric()"
   ]
  },
  {
   "cell_type": "code",
   "execution_count": 69,
   "id": "cdd3bbe9",
   "metadata": {
    "scrolled": true
   },
   "outputs": [
    {
     "name": "stdout",
     "output_type": "stream",
     "text": [
      "hello \n",
      " world\n",
      "False\n"
     ]
    }
   ],
   "source": [
    "#isprintable: returns true if the strings are printable.\n",
    "\n",
    "#Some Unicode characters, such as “Other” and “Separator,” are not printable. \n",
    "#Non-Printable characters include all escape characters such as \n",
    "#'\\n', \\'t', '\\r', '\\x16', '\\xlf', and so on.\n",
    "\n",
    "rt = \"hello \\n world\"\n",
    "print(rt)\n",
    "print(rt.isprintable())"
   ]
  },
  {
   "cell_type": "code",
   "execution_count": 70,
   "id": "cf6812d4",
   "metadata": {},
   "outputs": [
    {
     "data": {
      "text/plain": [
       "True"
      ]
     },
     "execution_count": 70,
     "metadata": {},
     "output_type": "execute_result"
    }
   ],
   "source": [
    "dfg = \" hello world\"\n",
    "dfg.isprintable()"
   ]
  },
  {
   "cell_type": "code",
   "execution_count": 49,
   "id": "e6377216",
   "metadata": {},
   "outputs": [
    {
     "data": {
      "text/plain": [
       "(False, True)"
      ]
     },
     "execution_count": 49,
     "metadata": {},
     "output_type": "execute_result"
    }
   ],
   "source": [
    "# isspace(): returns true when there are whitespaces in string.\n",
    "cv = \" Hello world    \"\n",
    "vc = \"  \"\n",
    "cv.isspace(), vc.isspace()"
   ]
  },
  {
   "cell_type": "code",
   "execution_count": 77,
   "id": "26fb443f",
   "metadata": {},
   "outputs": [
    {
     "name": "stdout",
     "output_type": "stream",
     "text": [
      "Hello, and Welcome TO my World!\n",
      "\n",
      "Hello, And Welcome To My World!\n",
      "\n",
      "Hello, And Welcome To My World!\n"
     ]
    }
   ],
   "source": [
    "#istitle(): returns true if it follows the rules of title function.\n",
    "\n",
    "txt = \"Hello, and Welcome TO my World!\"\n",
    "\n",
    "print(txt, txt.title(), txt.title(), sep = '\\n\\n')"
   ]
  },
  {
   "cell_type": "code",
   "execution_count": 68,
   "id": "da61963c",
   "metadata": {},
   "outputs": [
    {
     "data": {
      "text/plain": [
       "(True, True, False)"
      ]
     },
     "execution_count": 68,
     "metadata": {},
     "output_type": "execute_result"
    }
   ],
   "source": [
    "#isupper(): returns true if the all characters are in uppercase.\n",
    "\n",
    "sd = \"JUSTICE LEAGUE\"\n",
    "dc = \"JUST3ICE LEAGUE\"\n",
    "cb = \"Justice League\"\n",
    "\n",
    "sd.isupper(),dc.isupper(),cb.isupper()"
   ]
  },
  {
   "cell_type": "code",
   "execution_count": 71,
   "id": "e558d204",
   "metadata": {},
   "outputs": [
    {
     "name": "stdout",
     "output_type": "stream",
     "text": [
      "Help on method_descriptor:\n",
      "\n",
      "format(...)\n",
      "    S.format(*args, **kwargs) -> str\n",
      "    \n",
      "    Return a formatted version of S, using substitutions from args and kwargs.\n",
      "    The substitutions are identified by braces ('{' and '}').\n",
      "\n"
     ]
    }
   ],
   "source": [
    "help(str.format)"
   ]
  },
  {
   "cell_type": "code",
   "execution_count": 74,
   "id": "b79573e4",
   "metadata": {},
   "outputs": [
    {
     "name": "stdout",
     "output_type": "stream",
     "text": [
      "<class 'float'>\n"
     ]
    }
   ],
   "source": [
    "er = 34.56\n",
    "print(type(er))"
   ]
  },
  {
   "cell_type": "code",
   "execution_count": 78,
   "id": "0ce117e7",
   "metadata": {},
   "outputs": [
    {
     "data": {
      "text/plain": [
       "32"
      ]
     },
     "execution_count": 78,
     "metadata": {},
     "output_type": "execute_result"
    }
   ],
   "source": [
    "ord(\" \")"
   ]
  },
  {
   "cell_type": "code",
   "execution_count": 82,
   "id": "ce2a7b7a",
   "metadata": {},
   "outputs": [
    {
     "data": {
      "text/plain": [
       "True"
      ]
     },
     "execution_count": 82,
     "metadata": {},
     "output_type": "execute_result"
    }
   ],
   "source": [
    "sd = \"d;\"\n",
    "sd.isascii()"
   ]
  },
  {
   "cell_type": "code",
   "execution_count": 85,
   "id": "b3c6f7ec",
   "metadata": {},
   "outputs": [],
   "source": []
  },
  {
   "cell_type": "code",
   "execution_count": null,
   "id": "04af27b9",
   "metadata": {},
   "outputs": [],
   "source": []
  }
 ],
 "metadata": {
  "kernelspec": {
   "display_name": "Python 3 (ipykernel)",
   "language": "python",
   "name": "python3"
  },
  "language_info": {
   "codemirror_mode": {
    "name": "ipython",
    "version": 3
   },
   "file_extension": ".py",
   "mimetype": "text/x-python",
   "name": "python",
   "nbconvert_exporter": "python",
   "pygments_lexer": "ipython3",
   "version": "3.9.13"
  }
 },
 "nbformat": 4,
 "nbformat_minor": 5
}
